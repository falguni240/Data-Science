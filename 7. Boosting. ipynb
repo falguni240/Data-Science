import pandas as pd 
from sklearn.model_selection import train_test_split 
from sklearn.ensemble import AdaBoostClassifier 
from sklearn.tree import DecisionTreeClassifier 
from sklearn.metrics import accuracy_score 
from sklearn.preprocessing import LabelEncoder 

df = pd.read_csv('log.csv') 

print(df.head()) 

df = df.dropna() 

X = df.iloc[:, :-1].values  # All rows, all columns except the last one (features) 
y = df.iloc[:, -1].values   # Last column is the target 

label_encoder = LabelEncoder() 
y = label_encoder.fit_transform(y) 

X_train, X_test, y_train, y_test = train_test_split(X, y, test_size=0.3, random_state=42) 

base_estimator = DecisionTreeClassifier(max_depth=1) 

adaboost_classifier = AdaBoostClassifier(estimator=base_estimator, n_estimators=50, 
random_state=42) 
adaboost_classifier.fit(X_train, y_train) 
 
y_pred = adaboost_classifier.predict(X_test) 

accuracy = accuracy_score(y_test, y_pred) 
print(f'Accuracy of AdaBoost on test data: {accuracy * 100:.2f}%')

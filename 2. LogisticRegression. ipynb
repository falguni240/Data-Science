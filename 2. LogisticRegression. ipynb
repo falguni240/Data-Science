import numpy as np 
import pandas as pd 
from sklearn.model_selection import train_test_split 
from sklearn.preprocessing import StandardScaler 
from sklearn.linear_model import LogisticRegression 
from sklearn.metrics import accuracy_score, classification_report, confusion_matrix 

df = pd.read_csv('log.csv') 
 
X = df.iloc[:, :-1] 
y = df.iloc[:, -1] 

X_train, X_test, y_train, y_test = train_test_split(X, y, test_size=0.2, random_state=42) 

scaler = StandardScaler() 
X_train = scaler.fit_transform(X_train) 
X_test = scaler.transform(X_test) 

model = LogisticRegression() 
model.fit(X_train, y_train) 

y_pred = model.predict(X_test) 

accuracy = accuracy_score(y_test, y_pred) 
conf_matrix = confusion_matrix(y_test, y_pred) 
report = classification_report(y_test, y_pred) 

print(f'Accuracy: {accuracy:.4f}') 
print('Confusion Matrix:') 
print(conf_matrix) 
print('Classification Report:') 
print(report)
